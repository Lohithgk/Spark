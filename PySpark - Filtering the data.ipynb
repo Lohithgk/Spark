{
 "cells": [
  {
   "cell_type": "code",
   "execution_count": 0,
   "metadata": {
    "application/vnd.databricks.v1+cell": {
     "cellMetadata": {
      "byteLimit": 2048000,
      "rowLimit": 10000
     },
     "inputWidgets": {},
     "nuid": "0f556804-3718-493b-8abf-4267efcccb16",
     "showTitle": false,
     "title": ""
    }
   },
   "outputs": [],
   "source": [
    "# File location and type\n",
    "file_location = \"dbfs:/FileStore/tables/Sample___Superstore.csv\"\n",
    "file_type = \"csv\"\n",
    "\n",
    "# CSV options\n",
    "infer_schema = \"false\"\n",
    "first_row_is_header = \"true\"\n",
    "delimiter = \",\"\n",
    "\n",
    "# The applied options are for CSV files.\n",
    "df = (\n",
    "    spark\n",
    "    .read\n",
    "    .format(file_type)\n",
    "    .option(\"inferSchema\", infer_schema)\n",
    "    .option(\"header\", first_row_is_header)\n",
    "    .option(\"sep\", delimiter)\n",
    "    .load(file_location)\n",
    "    )\n",
    "\n",
    "display(df)"
   ]
  },
  {
   "cell_type": "code",
   "execution_count": 0,
   "metadata": {
    "application/vnd.databricks.v1+cell": {
     "cellMetadata": {
      "byteLimit": 2048000,
      "rowLimit": 10000
     },
     "inputWidgets": {},
     "nuid": "7e37bbca-cafb-4695-9117-26c052581cfc",
     "showTitle": false,
     "title": ""
    }
   },
   "outputs": [],
   "source": [
    "from pyspark.sql.functions import col\n",
    "\n",
    "df1 = (df\n",
    "       .select('Order ID', 'Order Date', 'Ship Mode', 'City', 'Sub-Category')\n",
    "       # Filter Using SQL col() function\n",
    "       .filter((col(\"Ship Mode\") == 'Second Class') & (col(\"Order Date\")== '11/8/2016'))\n",
    "       # Filter Using SQL Expression\n",
    "       .filter(\"`Order ID` == 'CA-2016-152156'\")\n",
    "       # Filter Using equals condition\n",
    "       .filter(df[\"Sub-Category\"] == \"Chairs\")\n",
    ")\n",
    "\n",
    "display(df1)"
   ]
  },
  {
   "cell_type": "code",
   "execution_count": 0,
   "metadata": {
    "application/vnd.databricks.v1+cell": {
     "cellMetadata": {
      "byteLimit": 2048000,
      "rowLimit": 10000
     },
     "inputWidgets": {},
     "nuid": "a37e9ba4-775e-497d-9869-c5808060f165",
     "showTitle": false,
     "title": ""
    }
   },
   "outputs": [],
   "source": [
    "from pyspark.sql.functions import col\n",
    "\n",
    "# Create a list of values to check against\n",
    "List_of_cities = ['Philadelphia', 'Richardson']\n",
    "\n",
    "df2 = (df\n",
    "       # Use 'isin' to filter by a list of values\n",
    "       # 'isin' allows you to specify a list of values you want to check against a column's values\n",
    "       .filter(df['Segment'].isin('Consumer'))\n",
    "       .filter(col('City').isin(['Philadelphia', 'Richardson']))\n",
    "       # Filter the DataFrame to keep rows where 'City' is in the list variable - List_of_cities\n",
    "       .filter(col('City').isin(List_of_cities))\n",
    "       # Negating 'isin' - You can negate the condition using the ~ (tilde) operator to filter out rows that do not match any value in the list\n",
    "       # Filter the DataFrame to keep rows where 'City' is NOT in the list\n",
    "       .filter(~col('City').isin(List_of_cities))\n",
    ")\n",
    "\n",
    "display(df2)"
   ]
  }
 ],
 "metadata": {
  "application/vnd.databricks.v1+notebook": {
   "dashboards": [],
   "language": "python",
   "notebookMetadata": {
    "pythonIndentUnit": 2
   },
   "notebookName": "PySpark - Filtering the data",
   "widgets": {}
  }
 },
 "nbformat": 4,
 "nbformat_minor": 0
}
