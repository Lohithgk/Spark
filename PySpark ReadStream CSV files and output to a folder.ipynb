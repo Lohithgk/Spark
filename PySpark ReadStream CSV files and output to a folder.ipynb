{
 "cells": [
  {
   "cell_type": "code",
   "execution_count": 1,
   "metadata": {},
   "outputs": [],
   "source": [
    "from pyspark.sql import SparkSession\n",
    "from pyspark.sql.functions import *\n",
    "from pyspark.sql.types import *"
   ]
  },
  {
   "cell_type": "code",
   "execution_count": 2,
   "metadata": {},
   "outputs": [],
   "source": [
    "# Create the Spark session\n",
    "spark = SparkSession.builder\\\n",
    "    .appName('application one')\\\n",
    "    .config('spark.master', 'local[*]')\\\n",
    "    .getOrCreate()"
   ]
  },
  {
   "cell_type": "code",
   "execution_count": 3,
   "metadata": {},
   "outputs": [],
   "source": [
    "# File location and type\n",
    "file_location = r\"C:\\Users\\user\\Desktop\\Main\\folder1\"\n",
    "file_type = \"csv\"\n",
    "\n",
    "# CSV options\n",
    "infer_schema = \"false\"\n",
    "first_row_is_header = \"true\"\n",
    "delimiter = \",\""
   ]
  },
  {
   "cell_type": "code",
   "execution_count": 4,
   "metadata": {},
   "outputs": [],
   "source": [
    "# manually specify the schema\n",
    "Data_schema=StructType([\n",
    "    StructField('name', StringType(),True),\n",
    "    StructField('age', IntegerType(),True),\n",
    "    StructField('salary', IntegerType(),True)\n",
    "    ])"
   ]
  },
  {
   "cell_type": "code",
   "execution_count": 5,
   "metadata": {},
   "outputs": [],
   "source": [
    "df = spark\\\n",
    "    .readStream\\\n",
    "    .format(file_type)\\\n",
    "    .schema(Data_schema)\\\n",
    "    .option(\"header\", first_row_is_header)\\\n",
    "    .option(\"checkpointLocation\", r\"C:\\Users\\user\\Desktop\\Main\\folder1\")\\\n",
    "    .option(\"sep\", delimiter)\\\n",
    "    .load(file_location)"
   ]
  },
  {
   "cell_type": "code",
   "execution_count": 6,
   "metadata": {},
   "outputs": [],
   "source": [
    "df.writeStream\\\n",
    ".format(\"csv\")\\\n",
    ".option(\"path\", r\"C:\\Users\\user\\Desktop\\Main\\output\")\\\n",
    ".option(\"checkpointLocation\", r\"C:\\Users\\user\\Desktop\\Main\\output\")\\\n",
    ".start()\\\n",
    ".awaitTermination()"
   ]
  }
 ],
 "metadata": {
  "kernelspec": {
   "display_name": "Python 3.10.5 64-bit",
   "language": "python",
   "name": "python3"
  },
  "language_info": {
   "codemirror_mode": {
    "name": "ipython",
    "version": 3
   },
   "file_extension": ".py",
   "mimetype": "text/x-python",
   "name": "python",
   "nbconvert_exporter": "python",
   "pygments_lexer": "ipython3",
   "version": "3.10.5"
  },
  "orig_nbformat": 4,
  "vscode": {
   "interpreter": {
    "hash": "fb4569285eef3a3450cb62085a5b1e0da4bce0af555edc33dcf29baf3acc1368"
   }
  }
 },
 "nbformat": 4,
 "nbformat_minor": 2
}
