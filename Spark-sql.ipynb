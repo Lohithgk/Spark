{
 "cells": [
  {
   "cell_type": "code",
   "execution_count": 90,
   "metadata": {},
   "outputs": [],
   "source": [
    "import os\n",
    "os.environ[\"PYARROW_IGNORE_TIMEZONE\"] = \"1\"\n",
    "from pyspark import pandas as pd\n",
    "from pyspark.sql import SparkSession\n",
    "from pyspark.sql.functions import *"
   ]
  },
  {
   "cell_type": "code",
   "execution_count": 91,
   "metadata": {},
   "outputs": [],
   "source": [
    "# Creating the spark session\n",
    "\n",
    "Jars = \"C:/Spark/spark-3.3.0-bin-hadoop3/jars/mssql-jdbc-10.2.1.jre8.jar;C:/Spark/spark-3.3.0-bin-hadoop3/jars/sqljdbc42.jar; C:/Spark/spark-3.3.0-bin-hadoop3/jars/sqljdbc_auth.dll\"\n",
    "\n",
    "spark = SparkSession.builder\\\n",
    ".appName(\"application one\")\\\n",
    ".config(\"spark.master\", \"local[*]\")\\\n",
    ".config(\"spark.driver.extraClassPath\", Jars)\\\n",
    ".getOrCreate()\n",
    "\n",
    "#.config(\"spark.driver.extraClassPath\", Jars) - Optional"
   ]
  },
  {
   "cell_type": "code",
   "execution_count": 92,
   "metadata": {},
   "outputs": [],
   "source": [
    "# Connection string to SQL SERVER\n",
    "\n",
    "server_name = \"jdbc:sqlserver://LOHITHGK\"\n",
    "database_name = \"AdWorks\"\n",
    "url = server_name + \";\" + \"databaseName=\" + database_name + \";\" + \"encrypt=true\"+ \";\" + \"trustServerCertificate=true\" + \";\" + \"integratedSecurity=true\""
   ]
  },
  {
   "cell_type": "code",
   "execution_count": null,
   "metadata": {},
   "outputs": [],
   "source": [
    "# Read the data from SQL SERVER table into the dataframe.\n",
    "person_add=spark.read\\\n",
    ".format('jdbc')\\\n",
    ".option('driver', 'com.microsoft.sqlserver.jdbc.SQLServerDriver')\\\n",
    ".option('url', url)\\\n",
    ".option('dbtable', '(SELECT ShiftID, Name FROM AdWorks.HumanResources.Shift) as T')\\\n",
    ".load()\n",
    "\n",
    "person_add.show(20)"
   ]
  },
  {
   "cell_type": "code",
   "execution_count": 102,
   "metadata": {},
   "outputs": [],
   "source": [
    "# create Temp view or Replace the existing view.\n",
    "person_add.createOrReplaceTempView('HumanResources_Shift')"
   ]
  },
  {
   "cell_type": "code",
   "execution_count": 112,
   "metadata": {},
   "outputs": [
    {
     "name": "stdout",
     "output_type": "stream",
     "text": [
      "+-------+----+\n",
      "|ShiftID|Name|\n",
      "+-------+----+\n",
      "|      1| Day|\n",
      "+-------+----+\n",
      "\n"
     ]
    }
   ],
   "source": [
    "# Query the temp View using Spark SQL.\n",
    "spark.sql(\"\"\"select * \n",
    "from HumanResources_Shift LIMIT 1 \"\"\").show()"
   ]
  }
 ],
 "metadata": {
  "kernelspec": {
   "display_name": "Python 3.10.5 64-bit",
   "language": "python",
   "name": "python3"
  },
  "language_info": {
   "codemirror_mode": {
    "name": "ipython",
    "version": 3
   },
   "file_extension": ".py",
   "mimetype": "text/x-python",
   "name": "python",
   "nbconvert_exporter": "python",
   "pygments_lexer": "ipython3",
   "version": "3.10.5"
  },
  "orig_nbformat": 4,
  "vscode": {
   "interpreter": {
    "hash": "fb4569285eef3a3450cb62085a5b1e0da4bce0af555edc33dcf29baf3acc1368"
   }
  }
 },
 "nbformat": 4,
 "nbformat_minor": 2
}
