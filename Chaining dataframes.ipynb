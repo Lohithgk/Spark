{
 "cells": [
  {
   "cell_type": "code",
   "execution_count": 0,
   "metadata": {
    "application/vnd.databricks.v1+cell": {
     "cellMetadata": {
      "byteLimit": 2048000,
      "rowLimit": 10000
     },
     "inputWidgets": {},
     "nuid": "e4b288fb-3a7a-467d-8725-9645a69663ab",
     "showTitle": false,
     "title": ""
    }
   },
   "outputs": [],
   "source": [
    "sample_data = [\n",
    "          ('Apple', 15, 1.5), \n",
    "          ('Banana', 25, 0.5), \n",
    "          ('Cherry', 5, 2.0), \n",
    "          ('Date', 12, 1.0), \n",
    "          ('Elderberry', 14, 2.5), \n",
    "          ('Fig', 8, 1.75), \n",
    "          ('Guava', 10, 1.0)]\n",
    "\n",
    "Sample_data_schema = \"Fruit: String, Quantity: Int, Price: Float\"\n",
    "#Sample_data_schema1 = ['Fruit', 'Quantity', 'Price']\n",
    "\n",
    "df = spark.createDataFrame(data=sample_data, schema=Sample_data_schema)\n",
    "\n",
    "display(df)\n"
   ]
  },
  {
   "cell_type": "code",
   "execution_count": 0,
   "metadata": {
    "application/vnd.databricks.v1+cell": {
     "cellMetadata": {
      "byteLimit": 2048000,
      "rowLimit": 10000
     },
     "inputWidgets": {},
     "nuid": "30f0db18-4cee-4358-980c-1659d5cf5a27",
     "showTitle": false,
     "title": ""
    }
   },
   "outputs": [],
   "source": [
    "from pyspark.sql.functions import col, avg\n",
    "\n",
    "def filter_by_quantity(df):\n",
    "    return df.filter(col(\"Quantity\") > 10)\n",
    "\n",
    "def sort_by_price(df):\n",
    "    return df.sort(\"Price\", ascending = False)\n",
    "\n",
    "def group_and_agg(df):\n",
    "    return (df\n",
    "            .groupby(\"Fruit\")\n",
    "            .agg(\n",
    "              avg(\"Price\").alias('Price'), \n",
    "              avg(\"Quantity\").alias('Quantity'))\n",
    "            )\n",
    "\n",
    "df2 = (df\n",
    "       .transform(filter_by_quantity)\n",
    "       .transform(group_and_agg)\n",
    "       .transform(sort_by_price)              \n",
    "       )\n",
    "\n",
    "display(df2)\n"
   ]
  }
 ],
 "metadata": {
  "application/vnd.databricks.v1+notebook": {
   "dashboards": [],
   "language": "python",
   "notebookMetadata": {
    "pythonIndentUnit": 2
   },
   "notebookName": "Chaining dataframes",
   "widgets": {}
  }
 },
 "nbformat": 4,
 "nbformat_minor": 0
}
