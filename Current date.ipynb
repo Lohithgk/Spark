{
 "cells": [
  {
   "cell_type": "code",
   "execution_count": 0,
   "metadata": {
    "application/vnd.databricks.v1+cell": {
     "cellMetadata": {
      "byteLimit": 2048000,
      "rowLimit": 10000
     },
     "inputWidgets": {},
     "nuid": "f9baeafc-68d1-41da-9cb6-13ac49814b10",
     "showTitle": false,
     "title": ""
    }
   },
   "outputs": [],
   "source": [
    "df = spark.createDataFrame([('2023-10-29', )], ['date'])\n",
    "df.show()"
   ]
  },
  {
   "cell_type": "code",
   "execution_count": 0,
   "metadata": {
    "application/vnd.databricks.v1+cell": {
     "cellMetadata": {
      "byteLimit": 2048000,
      "rowLimit": 10000
     },
     "inputWidgets": {},
     "nuid": "2fac3474-0b61-46d1-a1f6-0963085de5a0",
     "showTitle": false,
     "title": ""
    }
   },
   "outputs": [],
   "source": [
    "from pyspark.sql.functions import date_format, current_date\n",
    "(df\n",
    " .select(date_format(current_date(), 'yyyy-MM-dd').alias(\"YYYY-MM-DD\"))\n",
    " .show())"
   ]
  },
  {
   "cell_type": "code",
   "execution_count": 0,
   "metadata": {
    "application/vnd.databricks.v1+cell": {
     "cellMetadata": {
      "byteLimit": 2048000,
      "rowLimit": 10000
     },
     "inputWidgets": {},
     "nuid": "4fcc837a-94cb-4782-9115-9d73cfb15c04",
     "showTitle": false,
     "title": ""
    }
   },
   "outputs": [],
   "source": [
    "from pyspark.sql.functions import date_format, current_date\n",
    "(df\n",
    " .select([date_format(current_date(), 'yyyy-MM-dd').alias(\"YYYY-MM-DD\"),\n",
    "          date_format(current_date(), 'yyyy').alias(\"Year\"),\n",
    "          date_format(current_date(), 'MMMM').alias(\"Month\"),\n",
    "          date_format(current_date(), 'Q').alias(\"quarter-of-year\"),\n",
    "          date_format(current_date(), 'MM').alias(\"month-of-year\"),\n",
    "          date_format(current_date(), 'EEEE').alias(\"day-of-week\"),\n",
    "          date_format(current_date(), 'D').alias(\"day-of-year\"),\n",
    "          date_format(current_date(), 'd').alias(\"day\")])\n",
    " .show())"
   ]
  }
 ],
 "metadata": {
  "application/vnd.databricks.v1+notebook": {
   "dashboards": [],
   "language": "python",
   "notebookMetadata": {
    "pythonIndentUnit": 2
   },
   "notebookName": "Current date",
   "widgets": {}
  }
 },
 "nbformat": 4,
 "nbformat_minor": 0
}
