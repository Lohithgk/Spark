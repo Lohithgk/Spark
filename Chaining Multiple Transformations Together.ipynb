{
 "cells": [
  {
   "cell_type": "code",
   "execution_count": 0,
   "metadata": {
    "application/vnd.databricks.v1+cell": {
     "cellMetadata": {
      "byteLimit": 2048000,
      "rowLimit": 10000
     },
     "inputWidgets": {},
     "nuid": "92b68dcb-c08c-4caa-8910-ce46ed01aac9",
     "showTitle": false,
     "title": ""
    }
   },
   "outputs": [],
   "source": [
    "simpleData = [(\"Java\",4000, 5), (\"Python\", 4600, 10), (\"Scala\", 4100, 15), (\"Scala\", 4500, 15), (\"PHP\", 3000, 20)]\n",
    "columns= [\"CourseName\", \"fee\", \"discount\"]\n",
    "# Create DataFrame\n",
    "df = spark.createDataFrame(data = simpleData, schema = columns)\n",
    "\n",
    "df.show(truncate = True)"
   ]
  },
  {
   "cell_type": "code",
   "execution_count": 0,
   "metadata": {
    "application/vnd.databricks.v1+cell": {
     "cellMetadata": {
      "byteLimit": 2048000,
      "rowLimit": 10000
     },
     "inputWidgets": {},
     "nuid": "c1591aa2-1858-481c-9ee7-615a3c2f11f2",
     "showTitle": false,
     "title": ""
    }
   },
   "outputs": [],
   "source": [
    "from pyspark.sql.functions import upper\n",
    "\n",
    "# Custom transformation 1\n",
    "def to_upper_str_columns(df):\n",
    "    return df.withColumn(\"CourseName\",upper(df.CourseName))\n",
    "\n",
    "# Custom transformation 2\n",
    "def reduce_price(df,reduceBy):\n",
    "    return df.withColumn(\"new_fee\", df.fee - reduceBy)\n",
    "\n",
    "# Custom transformation 3\n",
    "def apply_discount(df):\n",
    "    return df.withColumn(\"discounted_fee\", df.new_fee - (df.new_fee * df.discount) / 100)"
   ]
  },
  {
   "cell_type": "code",
   "execution_count": 0,
   "metadata": {
    "application/vnd.databricks.v1+cell": {
     "cellMetadata": {
      "byteLimit": 2048000,
      "rowLimit": 10000
     },
     "inputWidgets": {},
     "nuid": "6075f427-2a7d-4340-bb7c-859b5c736bc5",
     "showTitle": false,
     "title": ""
    }
   },
   "outputs": [],
   "source": [
    "# PySpark transform() Usage\n",
    "df1 = (df\n",
    "        .transform(to_upper_str_columns)\n",
    "        .transform(reduce_price,2000)\n",
    "        .transform(apply_discount)\n",
    "        )\n",
    "\n",
    "df1.show()"
   ]
  }
 ],
 "metadata": {
  "application/vnd.databricks.v1+notebook": {
   "dashboards": [],
   "language": "python",
   "notebookMetadata": {
    "pythonIndentUnit": 2
   },
   "notebookName": "Chaining Multiple Transformations Together",
   "widgets": {}
  }
 },
 "nbformat": 4,
 "nbformat_minor": 0
}
