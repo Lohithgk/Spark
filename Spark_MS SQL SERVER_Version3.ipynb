{
 "cells": [
  {
   "cell_type": "code",
   "execution_count": 21,
   "metadata": {},
   "outputs": [],
   "source": [
    "import os\n",
    "from pyspark.sql import SparkSession"
   ]
  },
  {
   "cell_type": "code",
   "execution_count": 22,
   "metadata": {},
   "outputs": [],
   "source": [
    "# Creating the spark session\n",
    "#.config(\"spark.driver.extraClassPath\", Jars) - Optional\n",
    "\n",
    "Jars = \"C:/Spark/spark-3.3.0-bin-hadoop3/jars/mssql-jdbc-10.2.1.jre8.jar; C:/Spark/spark-3.3.0-bin-hadoop3/jars/sqljdbc42.jar; C:/Spark/spark-3.3.0-bin-hadoop3/jars/sqljdbc_auth.dll\"\n",
    "\n",
    "spark = SparkSession.builder\\\n",
    ".appName(\"application one\")\\\n",
    ".config(\"spark.master\", \"local[*]\")\\\n",
    ".getOrCreate()"
   ]
  },
  {
   "cell_type": "code",
   "execution_count": 23,
   "metadata": {},
   "outputs": [],
   "source": [
    "# Connection string to SQL SERVER\n",
    "\n",
    "server_name = \"jdbc:sqlserver://LOHITHGK\"\n",
    "database_name = \"AdWorks\"\n",
    "url = server_name + \";\" + \"databaseName=\" + database_name + \";\" + \"encrypt=true\"+ \";\" + \"trustServerCertificate=true\" + \";\" + \"integratedSecurity=true\""
   ]
  },
  {
   "cell_type": "code",
   "execution_count": 24,
   "metadata": {},
   "outputs": [],
   "source": [
    "# Read the data from SQL SERVER table into the dataframe. \n",
    "# .option('driver', 'com.microsoft.sqlserver.jdbc.SQLServerDriver')\\ -- Optional\n",
    "\n",
    "df=spark.read\\\n",
    ".format('jdbc')\\\n",
    ".option('url', url)\\\n",
    ".option('dbtable', 'AdWorks.dbo.Employee_output')\\\n",
    ".load()"
   ]
  },
  {
   "cell_type": "code",
   "execution_count": 25,
   "metadata": {},
   "outputs": [],
   "source": [
    "# Write the dataframe data to SQL db table. \n",
    "# If the table is not existed, then it would create the table and then perform write operation.\n",
    "# .mode('append') - append the the data, .mode('overwrite') - overwrite the exisiting data.\n",
    "\n",
    "df.write\\\n",
    "    .format('jdbc')\\\n",
    "    .mode('append')\\\n",
    "    .option('url', url)\\\n",
    "    .option('dbtable', 'AdWorks.dbo.Employee_output_test')\\\n",
    "    .save()"
   ]
  }
 ],
 "metadata": {
  "kernelspec": {
   "display_name": "Python 3.10.5 64-bit",
   "language": "python",
   "name": "python3"
  },
  "language_info": {
   "codemirror_mode": {
    "name": "ipython",
    "version": 3
   },
   "file_extension": ".py",
   "mimetype": "text/x-python",
   "name": "python",
   "nbconvert_exporter": "python",
   "pygments_lexer": "ipython3",
   "version": "3.10.5"
  },
  "orig_nbformat": 4,
  "vscode": {
   "interpreter": {
    "hash": "fb4569285eef3a3450cb62085a5b1e0da4bce0af555edc33dcf29baf3acc1368"
   }
  }
 },
 "nbformat": 4,
 "nbformat_minor": 2
}
