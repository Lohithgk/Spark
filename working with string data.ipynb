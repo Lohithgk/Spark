{
 "cells": [
  {
   "cell_type": "code",
   "execution_count": 0,
   "metadata": {
    "application/vnd.databricks.v1+cell": {
     "cellMetadata": {
      "byteLimit": 2048000,
      "rowLimit": 10000
     },
     "inputWidgets": {},
     "nuid": "dc634906-4f67-4aff-b028-e81021e30bbd",
     "showTitle": false,
     "title": ""
    }
   },
   "outputs": [],
   "source": [
    "# Sample data\n",
    "data = [(\"  Alice\", \"Bob\", \"Charlie\"), (\"David  \", \"Eva\", \"Frank\")]\n",
    "df = spark.createDataFrame(data, [\"Name1\", \"Name2\", \"Name3\"])\n",
    "# Display the result\n",
    "display(df)"
   ]
  },
  {
   "cell_type": "code",
   "execution_count": 0,
   "metadata": {
    "application/vnd.databricks.v1+cell": {
     "cellMetadata": {
      "byteLimit": 2048000,
      "rowLimit": 10000
     },
     "inputWidgets": {},
     "nuid": "1b886d5a-55ec-44f3-9243-9d9dd5555105",
     "showTitle": false,
     "title": ""
    }
   },
   "outputs": [],
   "source": [
    "from pyspark.sql.functions import lower, col, upper, initcap, length, trim\n",
    "# Convert values in the \"Name1\" column to lowercase\n",
    "df_lower = (df\n",
    "            .withColumn(\"Name1_Lower\", lower(col(\"Name1\"))) # Lower Case\n",
    "            .withColumn(\"Name2_Upper\", upper(col(\"Name2\"))) # Upper case\n",
    "            .withColumn(\"Name2_Lower\", initcap(col(\"Name2_Upper\"))) # It converts the first letter of each word in a string column to uppercase. - Proper case\n",
    "            .withColumn(\"Name2_start_B\", col(\"Name2_Upper\").startswith('B')) # Starts with \n",
    "            .withColumn(\"Name2_end_B\", col(\"Name2_Upper\").endswith('A')) # Ends with\n",
    "            .withColumn(\"Name2_length\", length(col(\"Name2\"))) # length of a string column\n",
    "            .withColumn(\"Name2_trim\", trim(col(\"Name1\"))) # removes leading and trailing whitespace from a string column, LTRIM() - Left trim, RTRIM() - Right trim\n",
    "            )\n",
    "# Display the result\n",
    "display(df_lower)"
   ]
  }
 ],
 "metadata": {
  "application/vnd.databricks.v1+notebook": {
   "dashboards": [],
   "language": "python",
   "notebookMetadata": {
    "pythonIndentUnit": 2
   },
   "notebookName": "working with string data",
   "widgets": {}
  }
 },
 "nbformat": 4,
 "nbformat_minor": 0
}
